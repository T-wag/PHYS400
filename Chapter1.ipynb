{
 "metadata": {
  "name": "Chapter1"
 }, 
 "nbformat": 2, 
 "worksheets": [
  {
   "cells": [
    {
     "cell_type": "code", 
     "collapsed": false, 
     "input": [
      "help()"
     ], 
     "language": "python", 
     "outputs": [
      {
       "ename": "StdinNotImplementedError", 
       "evalue": "raw_input was called, but this frontend does not support stdin.", 
       "output_type": "pyerr", 
       "traceback": [
        "<span class=\"ansired\">---------------------------------------------------------------------------</span>\n<span class=\"ansired\">StdinNotImplementedError</span>                  Traceback (most recent call last)", 
        "<span class=\"ansigreen\">/Users/ashleymcdonald/PHYS400/&lt;ipython-input-1-39f0db9d7c42&gt;</span> in <span class=\"ansicyan\">&lt;module&gt;</span><span class=\"ansiblue\">()</span>\n<span class=\"ansigreen\">----&gt; 1</span><span class=\"ansired\"> </span>help<span class=\"ansiblue\">(</span><span class=\"ansiblue\">)</span><span class=\"ansiblue\"></span>\n", 
        "<span class=\"ansigreen\">/Library/Frameworks/Python.framework/Versions/7.2/lib/python2.7/site.pyc</span> in <span class=\"ansicyan\">__call__</span><span class=\"ansiblue\">(self, *args, **kwds)</span>\n<span class=\"ansigreen\">    465</span>     <span class=\"ansigreen\">def</span> __call__<span class=\"ansiblue\">(</span>self<span class=\"ansiblue\">,</span> <span class=\"ansiblue\">*</span>args<span class=\"ansiblue\">,</span> <span class=\"ansiblue\">**</span>kwds<span class=\"ansiblue\">)</span><span class=\"ansiblue\">:</span><span class=\"ansiblue\"></span>\n<span class=\"ansigreen\">    466</span>         <span class=\"ansigreen\">import</span> pydoc<span class=\"ansiblue\"></span>\n<span class=\"ansigreen\">--&gt; 467</span><span class=\"ansired\">         </span><span class=\"ansigreen\">return</span> pydoc<span class=\"ansiblue\">.</span>help<span class=\"ansiblue\">(</span><span class=\"ansiblue\">*</span>args<span class=\"ansiblue\">,</span> <span class=\"ansiblue\">**</span>kwds<span class=\"ansiblue\">)</span><span class=\"ansiblue\"></span>\n<span class=\"ansigreen\">    468</span> <span class=\"ansiblue\"></span>\n<span class=\"ansigreen\">    469</span> <span class=\"ansigreen\">def</span> sethelper<span class=\"ansiblue\">(</span><span class=\"ansiblue\">)</span><span class=\"ansiblue\">:</span><span class=\"ansiblue\"></span>\n", 
        "<span class=\"ansigreen\">/Library/Frameworks/Python.framework/Versions/7.2/lib/python2.7/pydoc.pyc</span> in <span class=\"ansicyan\">__call__</span><span class=\"ansiblue\">(self, request)</span>\n<span class=\"ansigreen\">   1728</span>         <span class=\"ansigreen\">else</span><span class=\"ansiblue\">:</span><span class=\"ansiblue\"></span>\n<span class=\"ansigreen\">   1729</span>             self<span class=\"ansiblue\">.</span>intro<span class=\"ansiblue\">(</span><span class=\"ansiblue\">)</span><span class=\"ansiblue\"></span>\n<span class=\"ansigreen\">-&gt; 1730</span><span class=\"ansired\">             </span>self<span class=\"ansiblue\">.</span>interact<span class=\"ansiblue\">(</span><span class=\"ansiblue\">)</span><span class=\"ansiblue\"></span>\n<span class=\"ansigreen\">   1731</span>             self.output.write(&apos;&apos;&apos;\n<span class=\"ansigreen\">   1732</span> You are now leaving help <span class=\"ansigreen\">and</span> returning to the Python interpreter<span class=\"ansiblue\">.</span><span class=\"ansiblue\"></span>\n", 
        "<span class=\"ansigreen\">/Library/Frameworks/Python.framework/Versions/7.2/lib/python2.7/pydoc.pyc</span> in <span class=\"ansicyan\">interact</span><span class=\"ansiblue\">(self)</span>\n<span class=\"ansigreen\">   1740</span>         <span class=\"ansigreen\">while</span> True<span class=\"ansiblue\">:</span><span class=\"ansiblue\"></span>\n<span class=\"ansigreen\">   1741</span>             <span class=\"ansigreen\">try</span><span class=\"ansiblue\">:</span><span class=\"ansiblue\"></span>\n<span class=\"ansigreen\">-&gt; 1742</span><span class=\"ansired\">                 </span>request <span class=\"ansiblue\">=</span> self<span class=\"ansiblue\">.</span>getline<span class=\"ansiblue\">(</span><span class=\"ansiblue\">&apos;help&gt; &apos;</span><span class=\"ansiblue\">)</span><span class=\"ansiblue\"></span>\n<span class=\"ansigreen\">   1743</span>                 <span class=\"ansigreen\">if</span> <span class=\"ansigreen\">not</span> request<span class=\"ansiblue\">:</span> <span class=\"ansigreen\">break</span><span class=\"ansiblue\"></span>\n<span class=\"ansigreen\">   1744</span>             <span class=\"ansigreen\">except</span> <span class=\"ansiblue\">(</span>KeyboardInterrupt<span class=\"ansiblue\">,</span> EOFError<span class=\"ansiblue\">)</span><span class=\"ansiblue\">:</span><span class=\"ansiblue\"></span>\n", 
        "<span class=\"ansigreen\">/Library/Frameworks/Python.framework/Versions/7.2/lib/python2.7/pydoc.pyc</span> in <span class=\"ansicyan\">getline</span><span class=\"ansiblue\">(self, prompt)</span>\n<span class=\"ansigreen\">   1751</span>         <span class=\"ansiblue\">&quot;&quot;&quot;Read one line, using raw_input when available.&quot;&quot;&quot;</span><span class=\"ansiblue\"></span>\n<span class=\"ansigreen\">   1752</span>         <span class=\"ansigreen\">if</span> self<span class=\"ansiblue\">.</span>input <span class=\"ansigreen\">is</span> sys<span class=\"ansiblue\">.</span>stdin<span class=\"ansiblue\">:</span><span class=\"ansiblue\"></span>\n<span class=\"ansigreen\">-&gt; 1753</span><span class=\"ansired\">             </span><span class=\"ansigreen\">return</span> raw_input<span class=\"ansiblue\">(</span>prompt<span class=\"ansiblue\">)</span><span class=\"ansiblue\"></span>\n<span class=\"ansigreen\">   1754</span>         <span class=\"ansigreen\">else</span><span class=\"ansiblue\">:</span><span class=\"ansiblue\"></span>\n<span class=\"ansigreen\">   1755</span>             self<span class=\"ansiblue\">.</span>output<span class=\"ansiblue\">.</span>write<span class=\"ansiblue\">(</span>prompt<span class=\"ansiblue\">)</span><span class=\"ansiblue\"></span>\n", 
        "<span class=\"ansigreen\">/Library/Frameworks/Python.framework/Versions/7.2/lib/python2.7/site-packages/IPython/zmq/ipkernel.py</span> in <span class=\"ansicyan\">&lt;lambda&gt;</span><span class=\"ansiblue\">(prompt)</span>\n<span class=\"ansigreen\">    251</span>             raw_input <span class=\"ansiblue\">=</span> <span class=\"ansigreen\">lambda</span> prompt<span class=\"ansiblue\">=</span><span class=\"ansiblue\">&apos;&apos;</span><span class=\"ansiblue\">:</span> self<span class=\"ansiblue\">.</span>_raw_input<span class=\"ansiblue\">(</span>prompt<span class=\"ansiblue\">,</span> ident<span class=\"ansiblue\">,</span> parent<span class=\"ansiblue\">)</span><span class=\"ansiblue\"></span>\n<span class=\"ansigreen\">    252</span>         <span class=\"ansigreen\">else</span><span class=\"ansiblue\">:</span><span class=\"ansiblue\"></span>\n<span class=\"ansigreen\">--&gt; 253</span><span class=\"ansired\">             </span>raw_input <span class=\"ansiblue\">=</span> <span class=\"ansigreen\">lambda</span> prompt<span class=\"ansiblue\">=</span><span class=\"ansiblue\">&apos;&apos;</span> <span class=\"ansiblue\">:</span> self<span class=\"ansiblue\">.</span>_no_raw_input<span class=\"ansiblue\">(</span><span class=\"ansiblue\">)</span><span class=\"ansiblue\"></span>\n<span class=\"ansigreen\">    254</span> <span class=\"ansiblue\"></span>\n<span class=\"ansigreen\">    255</span>         <span class=\"ansigreen\">if</span> py3compat<span class=\"ansiblue\">.</span>PY3<span class=\"ansiblue\">:</span><span class=\"ansiblue\"></span>\n", 
        "<span class=\"ansigreen\">/Library/Frameworks/Python.framework/Versions/7.2/lib/python2.7/site-packages/IPython/zmq/ipkernel.py</span> in <span class=\"ansicyan\">_no_raw_input</span><span class=\"ansiblue\">(self)</span>\n<span class=\"ansigreen\">    443</span>         &quot;&quot;&quot;Raise StdinNotImplentedError if active frontend doesn&apos;t support\n<span class=\"ansigreen\">    444</span>         stdin.&quot;&quot;&quot;\n<span class=\"ansigreen\">--&gt; 445</span><span class=\"ansired\">         raise StdinNotImplementedError(&quot;raw_input was called, but this &quot;\n</span><span class=\"ansigreen\">    446</span>                                        &quot;frontend does not support stdin.&quot;) \n<span class=\"ansigreen\">    447</span> <span class=\"ansiblue\"></span>\n", 
        "<span class=\"ansired\">StdinNotImplementedError</span>: raw_input was called, but this frontend does not support stdin."
       ]
      }, 
      {
       "output_type": "stream", 
       "stream": "stdout", 
       "text": [
        "", 
        "Welcome to Python 2.7!  This is the online help utility.", 
        "", 
        "If this is your first time using Python, you should definitely check out", 
        "the tutorial on the Internet at http://docs.python.org/tutorial/.", 
        "", 
        "Enter the name of any keyword, or topic to get help on writing Python", 
        "programs and using Python.  To quit this help utility and return to the", 
        "interpreter, just type &quot;quit&quot;.", 
        "", 
        "To get a list of available modules, keywords, or topics, type &quot;keywords&quot;,", 
        "or &quot;topics&quot;.", 
        ""
       ]
      }
     ], 
     "prompt_number": 1
    }, 
    {
     "cell_type": "code", 
     "collapsed": false, 
     "input": [
      "help('print')"
     ], 
     "language": "python", 
     "outputs": [
      {
       "output_type": "stream", 
       "stream": "stdout", 
       "text": [
        "The &#96;&#96;print&#96;&#96; statement", 
        "***********************", 
        "", 
        "   print_stmt ::= &quot;print&quot; ([expression (&quot;,&quot; expression)* [&quot;,&quot;]]", 
        "                  | &quot;&gt;&gt;&quot; expression [(&quot;,&quot; expression)+ [&quot;,&quot;]])", 
        "", 
        "&#96;&#96;print&#96;&#96; evaluates each expression in turn and writes the resulting", 
        "object to standard output (see below).  If an object is not a string,", 
        "it is first converted to a string using the rules for string", 
        "conversions.  The (resulting or original) string is then written.  A", 
        "space is written before each object is (converted and) written, unless", 
        "the output system believes it is positioned at the beginning of a", 
        "line.  This is the case (1) when no characters have yet been written", 
        "to standard output, (2) when the last character written to standard", 
        "output is a whitespace character except &#96;&#96;&apos; &apos;&#96;&#96;, or (3) when the last", 
        "write operation on standard output was not a &#96;&#96;print&#96;&#96; statement. (In", 
        "some cases it may be functional to write an empty string to standard", 
        "output for this reason.)", 
        "", 
        "Note: Objects which act like file objects but which are not the built-in", 
        "  file objects often do not properly emulate this aspect of the file", 
        "  object&apos;s behavior, so it is best not to rely on this.", 
        "", 
        "A &#96;&#96;&apos;\\n&apos;&#96;&#96; character is written at the end, unless the &#96;&#96;print&#96;&#96;", 
        "statement ends with a comma.  This is the only action if the statement", 
        "contains just the keyword &#96;&#96;print&#96;&#96;.", 
        "", 
        "Standard output is defined as the file object named &#96;&#96;stdout&#96;&#96; in the", 
        "built-in module &#96;&#96;sys&#96;&#96;.  If no such object exists, or if it does not", 
        "have a &#96;&#96;write()&#96;&#96; method, a &#96;&#96;RuntimeError&#96;&#96; exception is raised.", 
        "", 
        "&#96;&#96;print&#96;&#96; also has an extended form, defined by the second portion of", 
        "the syntax described above. This form is sometimes referred to as", 
        "&quot;&#96;&#96;print&#96;&#96; chevron.&quot; In this form, the first expression after the", 
        "&#96;&#96;&gt;&gt;&#96;&#96; must evaluate to a &quot;file-like&quot; object, specifically an object", 
        "that has a &#96;&#96;write()&#96;&#96; method as described above.  With this extended", 
        "form, the subsequent expressions are printed to this file object.  If", 
        "the first expression evaluates to &#96;&#96;None&#96;&#96;, then &#96;&#96;sys.stdout&#96;&#96; is", 
        "used as the file for output.", 
        ""
       ]
      }
     ], 
     "prompt_number": 2
    }, 
    {
     "cell_type": "code", 
     "collapsed": false, 
     "input": [
      "print '10'"
     ], 
     "language": "python", 
     "outputs": [
      {
       "output_type": "stream", 
       "stream": "stdout", 
       "text": [
        "10"
       ]
      }
     ], 
     "prompt_number": 3
    }, 
    {
     "cell_type": "code", 
     "collapsed": false, 
     "input": [
      "print '10 km in 43 minutes 30 seconds, 1 mile = 1.61 km'"
     ], 
     "language": "python", 
     "outputs": [
      {
       "output_type": "stream", 
       "stream": "stdout", 
       "text": [
        "10 km in 43 minutes 30 seconds, 1 mile = 1.61 km"
       ]
      }
     ], 
     "prompt_number": 4
    }, 
    {
     "cell_type": "code", 
     "collapsed": false, 
     "input": [
      "10/43.5"
     ], 
     "language": "python", 
     "outputs": [
      {
       "output_type": "pyout", 
       "prompt_number": 5, 
       "text": [
        "0.22988505747126436"
       ]
      }
     ], 
     "prompt_number": 5
    }, 
    {
     "cell_type": "code", 
     "collapsed": false, 
     "input": [
      "43.5/10"
     ], 
     "language": "python", 
     "outputs": [
      {
       "output_type": "pyout", 
       "prompt_number": 6, 
       "text": [
        "4.35"
       ]
      }
     ], 
     "prompt_number": 6
    }, 
    {
     "cell_type": "code", 
     "collapsed": false, 
     "input": [
      "print 'average time per km = 4.35 min'"
     ], 
     "language": "python", 
     "outputs": [
      {
       "output_type": "stream", 
       "stream": "stdout", 
       "text": [
        "average time per km = 4.35 min"
       ]
      }
     ], 
     "prompt_number": 7
    }, 
    {
     "cell_type": "code", 
     "collapsed": false, 
     "input": [
      "4.35 min/km"
     ], 
     "language": "python", 
     "outputs": [
      {
       "ename": "SyntaxError", 
       "evalue": "invalid syntax (<ipython-input-8-f9cb168397ac>, line 1)", 
       "output_type": "pyerr", 
       "traceback": [
        "<span class=\"ansicyan\">  File </span><span class=\"ansigreen\">&quot;&lt;ipython-input-8-f9cb168397ac&gt;&quot;</span><span class=\"ansicyan\">, line </span><span class=\"ansigreen\">1</span>\n<span class=\"ansired\">    4.35 min/km</span>\n           ^\n<span class=\"ansired\">SyntaxError</span><span class=\"ansired\">:</span> invalid syntax\n"
       ]
      }
     ], 
     "prompt_number": 8
    }, 
    {
     "cell_type": "code", 
     "collapsed": false, 
     "input": [
      "4.35 'min/km'"
     ], 
     "language": "python", 
     "outputs": [
      {
       "ename": "SyntaxError", 
       "evalue": "invalid syntax (<ipython-input-9-b038f9748430>, line 1)", 
       "output_type": "pyerr", 
       "traceback": [
        "<span class=\"ansicyan\">  File </span><span class=\"ansigreen\">&quot;&lt;ipython-input-9-b038f9748430&gt;&quot;</span><span class=\"ansicyan\">, line </span><span class=\"ansigreen\">1</span>\n<span class=\"ansired\">    4.35 &apos;min/km&apos;</span>\n                ^\n<span class=\"ansired\">SyntaxError</span><span class=\"ansired\">:</span> invalid syntax\n"
       ]
      }
     ], 
     "prompt_number": 9
    }, 
    {
     "cell_type": "code", 
     "collapsed": false, 
     "input": [
      "4.35*1.61"
     ], 
     "language": "python", 
     "outputs": [
      {
       "output_type": "pyout", 
       "prompt_number": 10, 
       "text": [
        "7.0035"
       ]
      }
     ], 
     "prompt_number": 10
    }, 
    {
     "cell_type": "code", 
     "collapsed": false, 
     "input": [
      "print 'average time per mile = 7 min'"
     ], 
     "language": "python", 
     "outputs": [
      {
       "output_type": "stream", 
       "stream": "stdout", 
       "text": [
        "average time per mile = 7 min"
       ]
      }
     ], 
     "prompt_number": 11
    }, 
    {
     "cell_type": "code", 
     "collapsed": false, 
     "input": [
      "(1/7)*(60/1)"
     ], 
     "language": "python", 
     "outputs": [
      {
       "output_type": "pyout", 
       "prompt_number": 12, 
       "text": [
        "0"
       ]
      }
     ], 
     "prompt_number": 12
    }, 
    {
     "cell_type": "code", 
     "collapsed": false, 
     "input": [
      "1/7"
     ], 
     "language": "python", 
     "outputs": [
      {
       "output_type": "pyout", 
       "prompt_number": 13, 
       "text": [
        "0"
       ]
      }
     ], 
     "prompt_number": 13
    }, 
    {
     "cell_type": "code", 
     "collapsed": false, 
     "input": [
      "60"
     ], 
     "language": "python", 
     "outputs": [
      {
       "output_type": "pyout", 
       "prompt_number": 14, 
       "text": [
        "60"
       ]
      }
     ], 
     "prompt_number": 14
    }, 
    {
     "cell_type": "code", 
     "collapsed": false, 
     "input": [
      "1"
     ], 
     "language": "python", 
     "outputs": [
      {
       "output_type": "pyout", 
       "prompt_number": 15, 
       "text": [
        "1"
       ]
      }
     ], 
     "prompt_number": 15
    }, 
    {
     "cell_type": "code", 
     "collapsed": false, 
     "input": [
      "7"
     ], 
     "language": "python", 
     "outputs": [
      {
       "output_type": "pyout", 
       "prompt_number": 16, 
       "text": [
        "7"
       ]
      }
     ], 
     "prompt_number": 16
    }, 
    {
     "cell_type": "code", 
     "collapsed": false, 
     "input": [
      "1/7"
     ], 
     "language": "python", 
     "outputs": [
      {
       "output_type": "pyout", 
       "prompt_number": 17, 
       "text": [
        "0"
       ]
      }
     ], 
     "prompt_number": 17
    }, 
    {
     "cell_type": "code", 
     "collapsed": false, 
     "input": [
      "(1/2)"
     ], 
     "language": "python", 
     "outputs": [
      {
       "output_type": "pyout", 
       "prompt_number": 18, 
       "text": [
        "0"
       ]
      }
     ], 
     "prompt_number": 18
    }, 
    {
     "cell_type": "code", 
     "collapsed": false, 
     "input": [
      ".5"
     ], 
     "language": "python", 
     "outputs": [
      {
       "output_type": "pyout", 
       "prompt_number": 19, 
       "text": [
        "0.5"
       ]
      }
     ], 
     "prompt_number": 19
    }, 
    {
     "cell_type": "code", 
     "collapsed": false, 
     "input": [
      "help(/)"
     ], 
     "language": "python", 
     "outputs": [
      {
       "ename": "SyntaxError", 
       "evalue": "invalid syntax (<ipython-input-20-46da4615aef5>, line 1)", 
       "output_type": "pyerr", 
       "traceback": [
        "<span class=\"ansicyan\">  File </span><span class=\"ansigreen\">&quot;&lt;ipython-input-20-46da4615aef5&gt;&quot;</span><span class=\"ansicyan\">, line </span><span class=\"ansigreen\">1</span>\n<span class=\"ansired\">    help(/)</span>\n         ^\n<span class=\"ansired\">SyntaxError</span><span class=\"ansired\">:</span> invalid syntax\n"
       ]
      }
     ], 
     "prompt_number": 20
    }, 
    {
     "cell_type": "code", 
     "collapsed": false, 
     "input": [
      "help('/')"
     ], 
     "language": "python", 
     "outputs": [
      {
       "output_type": "stream", 
       "stream": "stdout", 
       "text": [
        "Summary", 
        "*******", 
        "", 
        "The following table summarizes the operator precedences in Python,", 
        "from lowest precedence (least binding) to highest precedence (most", 
        "binding). Operators in the same box have the same precedence.  Unless", 
        "the syntax is explicitly given, operators are binary.  Operators in", 
        "the same box group left to right (except for comparisons, including", 
        "tests, which all have the same precedence and chain from left to right", 
        "--- see section *Comparisons* --- and exponentiation, which groups", 
        "from right to left).", 
        "", 
        "+-------------------------------------------------+---------------------------------------+", 
        "| Operator                                        | Description                           |", 
        "+=================================================+=======================================+", 
        "| &#96;&#96;lambda&#96;&#96;                                      | Lambda expression                     |", 
        "+-------------------------------------------------+---------------------------------------+", 
        "| &#96;&#96;if&#96;&#96; -- &#96;&#96;else&#96;&#96;                              | Conditional expression                |", 
        "+-------------------------------------------------+---------------------------------------+", 
        "| &#96;&#96;or&#96;&#96;                                          | Boolean OR                            |", 
        "+-------------------------------------------------+---------------------------------------+", 
        "| &#96;&#96;and&#96;&#96;                                         | Boolean AND                           |", 
        "+-------------------------------------------------+---------------------------------------+", 
        "| &#96;&#96;not&#96;&#96; *x*                                     | Boolean NOT                           |", 
        "+-------------------------------------------------+---------------------------------------+", 
        "| &#96;&#96;in&#96;&#96;, &#96;&#96;not&#96;&#96; &#96;&#96;in&#96;&#96;, &#96;&#96;is&#96;&#96;, &#96;&#96;is not&#96;&#96;,     | Comparisons, including membership     |", 
        "| &#96;&#96;&lt;&#96;&#96;, &#96;&#96;&lt;=&#96;&#96;, &#96;&#96;&gt;&#96;&#96;, &#96;&#96;&gt;=&#96;&#96;, &#96;&#96;&lt;&gt;&#96;&#96;, &#96;&#96;!=&#96;&#96;,   | tests and identity tests,             |", 
        "| &#96;&#96;==&#96;&#96;                                          |                                       |", 
        "+-------------------------------------------------+---------------------------------------+", 
        "| &#96;&#96;|&#96;&#96;                                           | Bitwise OR                            |", 
        "+-------------------------------------------------+---------------------------------------+", 
        "| &#96;&#96;^&#96;&#96;                                           | Bitwise XOR                           |", 
        "+-------------------------------------------------+---------------------------------------+", 
        "| &#96;&#96;&amp;&#96;&#96;                                           | Bitwise AND                           |", 
        "+-------------------------------------------------+---------------------------------------+", 
        "| &#96;&#96;&lt;&lt;&#96;&#96;, &#96;&#96;&gt;&gt;&#96;&#96;                                  | Shifts                                |", 
        "+-------------------------------------------------+---------------------------------------+", 
        "| &#96;&#96;+&#96;&#96;, &#96;&#96;-&#96;&#96;                                    | Addition and subtraction              |", 
        "+-------------------------------------------------+---------------------------------------+", 
        "| &#96;&#96;*&#96;&#96;, &#96;&#96;/&#96;&#96;, &#96;&#96;//&#96;&#96;, &#96;&#96;%&#96;&#96;                     | Multiplication, division, remainder   |", 
        "|                                                 | [8]                                   |", 
        "+-------------------------------------------------+---------------------------------------+", 
        "| &#96;&#96;+x&#96;&#96;, &#96;&#96;-x&#96;&#96;, &#96;&#96;~x&#96;&#96;                          | Positive, negative, bitwise NOT       |", 
        "+-------------------------------------------------+---------------------------------------+", 
        "| &#96;&#96;**&#96;&#96;                                          | Exponentiation [9]                    |", 
        "+-------------------------------------------------+---------------------------------------+", 
        "| &#96;&#96;x[index]&#96;&#96;, &#96;&#96;x[index:index]&#96;&#96;,               | Subscription, slicing, call,          |", 
        "| &#96;&#96;x(arguments...)&#96;&#96;, &#96;&#96;x.attribute&#96;&#96;            | attribute reference                   |", 
        "+-------------------------------------------------+---------------------------------------+", 
        "| &#96;&#96;(expressions...)&#96;&#96;, &#96;&#96;[expressions...]&#96;&#96;,     | Binding or tuple display, list        |", 
        "| &#96;&#96;{key:datum...}&#96;&#96;, &#96;&#96;&#96;expressions...&#96;&#96;&#96;        | display, dictionary display, string   |", 
        "|                                                 | conversion                            |", 
        "+-------------------------------------------------+---------------------------------------+", 
        "", 
        "-[ Footnotes ]-", 
        "", 
        "[1] In Python 2.3 and later releases, a list comprehension &quot;leaks&quot; the", 
        "    control variables of each &#96;&#96;for&#96;&#96; it contains into the containing", 
        "    scope.  However, this behavior is deprecated, and relying on it", 
        "    will not work in Python 3.0", 
        "", 
        "[2] While &#96;&#96;abs(x%y) &lt; abs(y)&#96;&#96; is true mathematically, for floats it", 
        "    may not be true numerically due to roundoff.  For example, and", 
        "    assuming a platform on which a Python float is an IEEE 754 double-", 
        "    precision number, in order that &#96;&#96;-1e-100 % 1e100&#96;&#96; have the same", 
        "    sign as &#96;&#96;1e100&#96;&#96;, the computed result is &#96;&#96;-1e-100 + 1e100&#96;&#96;,", 
        "    which is numerically exactly equal to &#96;&#96;1e100&#96;&#96;.  The function", 
        "    &#96;&#96;math.fmod()&#96;&#96; returns a result whose sign matches the sign of", 
        "    the first argument instead, and so returns &#96;&#96;-1e-100&#96;&#96; in this", 
        "    case. Which approach is more appropriate depends on the", 
        "    application.", 
        "", 
        "[3] If x is very close to an exact integer multiple of y, it&apos;s", 
        "    possible for &#96;&#96;floor(x/y)&#96;&#96; to be one larger than &#96;&#96;(x-x%y)/y&#96;&#96;", 
        "    due to rounding.  In such cases, Python returns the latter result,", 
        "    in order to preserve that &#96;&#96;divmod(x,y)[0] * y + x % y&#96;&#96; be very", 
        "    close to &#96;&#96;x&#96;&#96;.", 
        "", 
        "[4] While comparisons between unicode strings make sense at the byte", 
        "    level, they may be counter-intuitive to users. For example, the", 
        "    strings &#96;&#96;u&quot;\\u00C7&quot;&#96;&#96; and &#96;&#96;u&quot;\\u0043\\u0327&quot;&#96;&#96; compare differently,", 
        "    even though they both represent the same unicode character (LATIN", 
        "    CAPITAL LETTER C WITH CEDILLA). To compare strings in a human", 
        "    recognizable way, compare using &#96;&#96;unicodedata.normalize()&#96;&#96;.", 
        "", 
        "[5] The implementation computes this efficiently, without constructing", 
        "    lists or sorting.", 
        "", 
        "[6] Earlier versions of Python used lexicographic comparison of the", 
        "    sorted (key, value) lists, but this was very expensive for the", 
        "    common case of comparing for equality.  An even earlier version of", 
        "    Python compared dictionaries by identity only, but this caused", 
        "    surprises because people expected to be able to test a dictionary", 
        "    for emptiness by comparing it to &#96;&#96;{}&#96;&#96;.", 
        "", 
        "[7] Due to automatic garbage-collection, free lists, and the dynamic", 
        "    nature of descriptors, you may notice seemingly unusual behaviour", 
        "    in certain uses of the &#96;&#96;is&#96;&#96; operator, like those involving", 
        "    comparisons between instance methods, or constants.  Check their", 
        "    documentation for more info.", 
        "", 
        "[8] The &#96;&#96;%&#96;&#96; operator is also used for string formatting; the same", 
        "    precedence applies.", 
        "", 
        "[9] The power operator &#96;&#96;**&#96;&#96; binds less tightly than an arithmetic or", 
        "    bitwise unary operator on its right, that is, &#96;&#96;2**-1&#96;&#96; is", 
        "    &#96;&#96;0.5&#96;&#96;.", 
        "", 
        "Related help topics: lambda, or, and, not, in, is, BOOLEAN, COMPARISON,", 
        "BITWISE, SHIFTING, BINARY, FORMATTING, POWER, UNARY, ATTRIBUTES,", 
        "SUBSCRIPTS, SLICINGS, CALLS, TUPLES, LISTS, DICTIONARIES, BACKQUOTES"
       ]
      }, 
      {
       "output_type": "stream", 
       "stream": "stdout", 
       "text": [
        ""
       ]
      }
     ], 
     "prompt_number": 21
    }, 
    {
     "cell_type": "code", 
     "collapsed": false, 
     "input": [
      "3/5"
     ], 
     "language": "python", 
     "outputs": [
      {
       "output_type": "pyout", 
       "prompt_number": 22, 
       "text": [
        "0"
       ]
      }
     ], 
     "prompt_number": 22
    }, 
    {
     "cell_type": "code", 
     "collapsed": false, 
     "input": [
      "3\\5"
     ], 
     "language": "python", 
     "outputs": [
      {
       "ename": "SyntaxError", 
       "evalue": "unexpected character after line continuation character (<ipython-input-23-ca75a076c505>, line 1)", 
       "output_type": "pyerr", 
       "traceback": [
        "<span class=\"ansicyan\">  File </span><span class=\"ansigreen\">&quot;&lt;ipython-input-23-ca75a076c505&gt;&quot;</span><span class=\"ansicyan\">, line </span><span class=\"ansigreen\">1</span>\n<span class=\"ansired\">    3\\5</span>\n       ^\n<span class=\"ansired\">SyntaxError</span><span class=\"ansired\">:</span> unexpected character after line continuation character\n"
       ]
      }
     ], 
     "prompt_number": 23
    }, 
    {
     "cell_type": "code", 
     "collapsed": true, 
     "input": [], 
     "language": "python", 
     "outputs": [], 
     "prompt_number": "&nbsp;"
    }
   ]
  }
 ]
}